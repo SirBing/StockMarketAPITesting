{
 "metadata": {
  "language_info": {
   "codemirror_mode": {
    "name": "ipython",
    "version": 3
   },
   "file_extension": ".py",
   "mimetype": "text/x-python",
   "name": "python",
   "nbconvert_exporter": "python",
   "pygments_lexer": "ipython3",
   "version": "3.9.0"
  },
  "orig_nbformat": 2,
  "kernelspec": {
   "name": "python390jvsc74a57bd07812ea015bdcee6f23a998adcdd2ef97c151c0c241b7b7070987d9313e41299d",
   "display_name": "Python 3.9.0 64-bit"
  },
  "metadata": {
   "interpreter": {
    "hash": "7812ea015bdcee6f23a998adcdd2ef97c151c0c241b7b7070987d9313e41299d"
   }
  }
 },
 "nbformat": 4,
 "nbformat_minor": 2,
 "cells": [
  {
   "cell_type": "code",
   "execution_count": 1,
   "metadata": {},
   "outputs": [
    {
     "output_type": "execute_result",
     "data": {
      "text/plain": [
       "yfinance.Ticker object <AAPL>"
      ]
     },
     "metadata": {},
     "execution_count": 1
    }
   ],
   "source": [
    "import yfinance as yf\n",
    "\n",
    "aapl = yf.Ticker(\"aapl\")\n",
    "aapl"
   ]
  },
  {
   "cell_type": "code",
   "execution_count": 2,
   "metadata": {},
   "outputs": [
    {
     "output_type": "execute_result",
     "data": {
      "text/plain": [
       "                  Open        High         Low       Close     Volume  \\\n",
       "Date                                                                    \n",
       "2021-04-05  123.870003  126.160004  123.070000  125.900002   88651200   \n",
       "2021-04-06  126.500000  127.129997  125.650002  126.209999   80171300   \n",
       "2021-04-07  125.830002  127.919998  125.139999  127.900002   83466700   \n",
       "2021-04-08  128.949997  130.389999  128.520004  130.360001   88844600   \n",
       "2021-04-09  129.800003  133.039993  129.470001  133.000000  106686700   \n",
       "2021-04-12  132.520004  132.850006  130.630005  131.240005   91420000   \n",
       "2021-04-13  132.440002  134.660004  131.929993  134.429993   91266500   \n",
       "2021-04-14  134.940002  135.000000  131.660004  132.029999   87222800   \n",
       "2021-04-15  133.820007  135.000000  133.639999  134.500000   89347100   \n",
       "2021-04-16  134.300003  134.669998  133.279999  134.160004   84922400   \n",
       "2021-04-19  133.509995  135.470001  133.339996  134.839996   94264200   \n",
       "2021-04-20  135.020004  135.529999  131.809998  133.110001   94812300   \n",
       "2021-04-21  132.360001  133.750000  131.300003  133.500000   68847100   \n",
       "2021-04-22  133.039993  134.149994  131.410004  131.940002   84566500   \n",
       "2021-04-23  132.160004  135.119995  132.160004  134.320007   78657500   \n",
       "2021-04-26  134.830002  135.059998  133.559998  134.720001   66905100   \n",
       "2021-04-27  135.009995  135.410004  134.110001  134.389999   66015800   \n",
       "2021-04-28  134.309998  135.020004  133.080002  133.580002  107760100   \n",
       "2021-04-29  136.470001  137.070007  132.449997  133.479996  151101000   \n",
       "2021-04-30  131.779999  133.559998  131.070007  131.460007  109713200   \n",
       "2021-05-03  132.039993  134.070007  131.830002  132.539993   75135100   \n",
       "2021-05-04  131.190002  131.490005  126.699997  127.849998  137375500   \n",
       "2021-05-05  129.199997  130.440002  128.860001  130.011703   41881321   \n",
       "\n",
       "            Dividends  Stock Splits  \n",
       "Date                                 \n",
       "2021-04-05          0             0  \n",
       "2021-04-06          0             0  \n",
       "2021-04-07          0             0  \n",
       "2021-04-08          0             0  \n",
       "2021-04-09          0             0  \n",
       "2021-04-12          0             0  \n",
       "2021-04-13          0             0  \n",
       "2021-04-14          0             0  \n",
       "2021-04-15          0             0  \n",
       "2021-04-16          0             0  \n",
       "2021-04-19          0             0  \n",
       "2021-04-20          0             0  \n",
       "2021-04-21          0             0  \n",
       "2021-04-22          0             0  \n",
       "2021-04-23          0             0  \n",
       "2021-04-26          0             0  \n",
       "2021-04-27          0             0  \n",
       "2021-04-28          0             0  \n",
       "2021-04-29          0             0  \n",
       "2021-04-30          0             0  \n",
       "2021-05-03          0             0  \n",
       "2021-05-04          0             0  \n",
       "2021-05-05          0             0  "
      ],
      "text/html": "<div>\n<style scoped>\n    .dataframe tbody tr th:only-of-type {\n        vertical-align: middle;\n    }\n\n    .dataframe tbody tr th {\n        vertical-align: top;\n    }\n\n    .dataframe thead th {\n        text-align: right;\n    }\n</style>\n<table border=\"1\" class=\"dataframe\">\n  <thead>\n    <tr style=\"text-align: right;\">\n      <th></th>\n      <th>Open</th>\n      <th>High</th>\n      <th>Low</th>\n      <th>Close</th>\n      <th>Volume</th>\n      <th>Dividends</th>\n      <th>Stock Splits</th>\n    </tr>\n    <tr>\n      <th>Date</th>\n      <th></th>\n      <th></th>\n      <th></th>\n      <th></th>\n      <th></th>\n      <th></th>\n      <th></th>\n    </tr>\n  </thead>\n  <tbody>\n    <tr>\n      <th>2021-04-05</th>\n      <td>123.870003</td>\n      <td>126.160004</td>\n      <td>123.070000</td>\n      <td>125.900002</td>\n      <td>88651200</td>\n      <td>0</td>\n      <td>0</td>\n    </tr>\n    <tr>\n      <th>2021-04-06</th>\n      <td>126.500000</td>\n      <td>127.129997</td>\n      <td>125.650002</td>\n      <td>126.209999</td>\n      <td>80171300</td>\n      <td>0</td>\n      <td>0</td>\n    </tr>\n    <tr>\n      <th>2021-04-07</th>\n      <td>125.830002</td>\n      <td>127.919998</td>\n      <td>125.139999</td>\n      <td>127.900002</td>\n      <td>83466700</td>\n      <td>0</td>\n      <td>0</td>\n    </tr>\n    <tr>\n      <th>2021-04-08</th>\n      <td>128.949997</td>\n      <td>130.389999</td>\n      <td>128.520004</td>\n      <td>130.360001</td>\n      <td>88844600</td>\n      <td>0</td>\n      <td>0</td>\n    </tr>\n    <tr>\n      <th>2021-04-09</th>\n      <td>129.800003</td>\n      <td>133.039993</td>\n      <td>129.470001</td>\n      <td>133.000000</td>\n      <td>106686700</td>\n      <td>0</td>\n      <td>0</td>\n    </tr>\n    <tr>\n      <th>2021-04-12</th>\n      <td>132.520004</td>\n      <td>132.850006</td>\n      <td>130.630005</td>\n      <td>131.240005</td>\n      <td>91420000</td>\n      <td>0</td>\n      <td>0</td>\n    </tr>\n    <tr>\n      <th>2021-04-13</th>\n      <td>132.440002</td>\n      <td>134.660004</td>\n      <td>131.929993</td>\n      <td>134.429993</td>\n      <td>91266500</td>\n      <td>0</td>\n      <td>0</td>\n    </tr>\n    <tr>\n      <th>2021-04-14</th>\n      <td>134.940002</td>\n      <td>135.000000</td>\n      <td>131.660004</td>\n      <td>132.029999</td>\n      <td>87222800</td>\n      <td>0</td>\n      <td>0</td>\n    </tr>\n    <tr>\n      <th>2021-04-15</th>\n      <td>133.820007</td>\n      <td>135.000000</td>\n      <td>133.639999</td>\n      <td>134.500000</td>\n      <td>89347100</td>\n      <td>0</td>\n      <td>0</td>\n    </tr>\n    <tr>\n      <th>2021-04-16</th>\n      <td>134.300003</td>\n      <td>134.669998</td>\n      <td>133.279999</td>\n      <td>134.160004</td>\n      <td>84922400</td>\n      <td>0</td>\n      <td>0</td>\n    </tr>\n    <tr>\n      <th>2021-04-19</th>\n      <td>133.509995</td>\n      <td>135.470001</td>\n      <td>133.339996</td>\n      <td>134.839996</td>\n      <td>94264200</td>\n      <td>0</td>\n      <td>0</td>\n    </tr>\n    <tr>\n      <th>2021-04-20</th>\n      <td>135.020004</td>\n      <td>135.529999</td>\n      <td>131.809998</td>\n      <td>133.110001</td>\n      <td>94812300</td>\n      <td>0</td>\n      <td>0</td>\n    </tr>\n    <tr>\n      <th>2021-04-21</th>\n      <td>132.360001</td>\n      <td>133.750000</td>\n      <td>131.300003</td>\n      <td>133.500000</td>\n      <td>68847100</td>\n      <td>0</td>\n      <td>0</td>\n    </tr>\n    <tr>\n      <th>2021-04-22</th>\n      <td>133.039993</td>\n      <td>134.149994</td>\n      <td>131.410004</td>\n      <td>131.940002</td>\n      <td>84566500</td>\n      <td>0</td>\n      <td>0</td>\n    </tr>\n    <tr>\n      <th>2021-04-23</th>\n      <td>132.160004</td>\n      <td>135.119995</td>\n      <td>132.160004</td>\n      <td>134.320007</td>\n      <td>78657500</td>\n      <td>0</td>\n      <td>0</td>\n    </tr>\n    <tr>\n      <th>2021-04-26</th>\n      <td>134.830002</td>\n      <td>135.059998</td>\n      <td>133.559998</td>\n      <td>134.720001</td>\n      <td>66905100</td>\n      <td>0</td>\n      <td>0</td>\n    </tr>\n    <tr>\n      <th>2021-04-27</th>\n      <td>135.009995</td>\n      <td>135.410004</td>\n      <td>134.110001</td>\n      <td>134.389999</td>\n      <td>66015800</td>\n      <td>0</td>\n      <td>0</td>\n    </tr>\n    <tr>\n      <th>2021-04-28</th>\n      <td>134.309998</td>\n      <td>135.020004</td>\n      <td>133.080002</td>\n      <td>133.580002</td>\n      <td>107760100</td>\n      <td>0</td>\n      <td>0</td>\n    </tr>\n    <tr>\n      <th>2021-04-29</th>\n      <td>136.470001</td>\n      <td>137.070007</td>\n      <td>132.449997</td>\n      <td>133.479996</td>\n      <td>151101000</td>\n      <td>0</td>\n      <td>0</td>\n    </tr>\n    <tr>\n      <th>2021-04-30</th>\n      <td>131.779999</td>\n      <td>133.559998</td>\n      <td>131.070007</td>\n      <td>131.460007</td>\n      <td>109713200</td>\n      <td>0</td>\n      <td>0</td>\n    </tr>\n    <tr>\n      <th>2021-05-03</th>\n      <td>132.039993</td>\n      <td>134.070007</td>\n      <td>131.830002</td>\n      <td>132.539993</td>\n      <td>75135100</td>\n      <td>0</td>\n      <td>0</td>\n    </tr>\n    <tr>\n      <th>2021-05-04</th>\n      <td>131.190002</td>\n      <td>131.490005</td>\n      <td>126.699997</td>\n      <td>127.849998</td>\n      <td>137375500</td>\n      <td>0</td>\n      <td>0</td>\n    </tr>\n    <tr>\n      <th>2021-05-05</th>\n      <td>129.199997</td>\n      <td>130.440002</td>\n      <td>128.860001</td>\n      <td>130.011703</td>\n      <td>41881321</td>\n      <td>0</td>\n      <td>0</td>\n    </tr>\n  </tbody>\n</table>\n</div>"
     },
     "metadata": {},
     "execution_count": 2
    }
   ],
   "source": [
    "aapl_historical = aapl.history(interval=\"1d\")\n",
    "aapl_historical"
   ]
  },
  {
   "cell_type": "code",
   "execution_count": 3,
   "metadata": {},
   "outputs": [
    {
     "output_type": "execute_result",
     "data": {
      "text/plain": [
       "{'zip': '95014',\n",
       " 'sector': 'Technology',\n",
       " 'fullTimeEmployees': 100000,\n",
       " 'longBusinessSummary': 'Apple Inc. designs, manufactures, and markets smartphones, personal computers, tablets, wearables, and accessories worldwide. It also sells various related services. The company offers iPhone, a line of smartphones; Mac, a line of personal computers; iPad, a line of multi-purpose tablets; and wearables, home, and accessories comprising AirPods, Apple TV, Apple Watch, Beats products, HomePod, iPod touch, and other Apple-branded and third-party accessories. It also provides AppleCare support services; cloud services store services; and operates various platforms, including the App Store, that allow customers to discover and download applications and digital content, such as books, music, video, games, and podcasts. In addition, the company offers various services, such as Apple Arcade, a game subscription service; Apple Music, which offers users a curated listening experience with on-demand radio stations; Apple News+, a subscription news and magazine service; Apple TV+, which offers exclusive original content; Apple Card, a co-branded credit card; and Apple Pay, a cashless payment service, as well as licenses its intellectual property. The company serves consumers, and small and mid-sized businesses; and the education, enterprise, and government markets. It sells and delivers third-party applications for its products through the App Store. The company also sells its products through its retail and online stores, and direct sales force; and third-party cellular network carriers, wholesalers, retailers, and resellers. Apple Inc. was founded in 1977 and is headquartered in Cupertino, California.',\n",
       " 'city': 'Cupertino',\n",
       " 'phone': '408-996-1010',\n",
       " 'state': 'CA',\n",
       " 'country': 'United States',\n",
       " 'companyOfficers': [],\n",
       " 'website': 'http://www.apple.com',\n",
       " 'maxAge': 1,\n",
       " 'address1': 'One Apple Park Way',\n",
       " 'industry': 'Consumer Electronics',\n",
       " 'previousClose': 127.85,\n",
       " 'regularMarketOpen': 129.2,\n",
       " 'twoHundredDayAverage': 126.05434,\n",
       " 'trailingAnnualDividendYield': 0.006413766,\n",
       " 'payoutRatio': 0.1834,\n",
       " 'volume24Hr': None,\n",
       " 'regularMarketDayHigh': 130.44,\n",
       " 'navPrice': None,\n",
       " 'averageDailyVolume10Day': 102000828,\n",
       " 'totalAssets': None,\n",
       " 'regularMarketPreviousClose': 127.85,\n",
       " 'fiftyDayAverage': 128.302,\n",
       " 'trailingAnnualDividendRate': 0.82,\n",
       " 'open': 129.2,\n",
       " 'toCurrency': None,\n",
       " 'averageVolume10days': 102000828,\n",
       " 'expireDate': None,\n",
       " 'yield': None,\n",
       " 'algorithm': None,\n",
       " 'dividendRate': 0.88,\n",
       " 'exDividendDate': 1620345600,\n",
       " 'beta': 1.219525,\n",
       " 'circulatingSupply': None,\n",
       " 'startDate': None,\n",
       " 'regularMarketDayLow': 128.86,\n",
       " 'priceHint': 2,\n",
       " 'currency': 'USD',\n",
       " 'trailingPE': 29.241404,\n",
       " 'regularMarketVolume': 42117182,\n",
       " 'lastMarket': None,\n",
       " 'maxSupply': None,\n",
       " 'openInterest': None,\n",
       " 'marketCap': 2170973323264,\n",
       " 'volumeAllCurrencies': None,\n",
       " 'strikePrice': None,\n",
       " 'averageVolume': 102014859,\n",
       " 'priceToSalesTrailing12Months': 6.6715837,\n",
       " 'dayLow': 128.86,\n",
       " 'ask': 130.02,\n",
       " 'ytdReturn': None,\n",
       " 'askSize': 1300,\n",
       " 'volume': 42117182,\n",
       " 'fiftyTwoWeekHigh': 145.09,\n",
       " 'forwardPE': 24.5,\n",
       " 'fromCurrency': None,\n",
       " 'fiveYearAvgDividendYield': 1.37,\n",
       " 'fiftyTwoWeekLow': 74.7175,\n",
       " 'bid': 130.01,\n",
       " 'tradeable': False,\n",
       " 'dividendYield': 0.0069,\n",
       " 'bidSize': 2200,\n",
       " 'dayHigh': 130.44,\n",
       " 'exchange': 'NMS',\n",
       " 'shortName': 'Apple Inc.',\n",
       " 'longName': 'Apple Inc.',\n",
       " 'exchangeTimezoneName': 'America/New_York',\n",
       " 'exchangeTimezoneShortName': 'EDT',\n",
       " 'isEsgPopulated': False,\n",
       " 'gmtOffSetMilliseconds': '-14400000',\n",
       " 'quoteType': 'EQUITY',\n",
       " 'symbol': 'AAPL',\n",
       " 'messageBoardId': 'finmb_24937',\n",
       " 'market': 'us_market',\n",
       " 'annualHoldingsTurnover': None,\n",
       " 'enterpriseToRevenue': 6.716,\n",
       " 'beta3Year': None,\n",
       " 'profitMargins': 0.23451,\n",
       " 'enterpriseToEbitda': 21.893,\n",
       " '52WeekChange': 0.7010944,\n",
       " 'morningStarRiskRating': None,\n",
       " 'forwardEps': 5.31,\n",
       " 'revenueQuarterlyGrowth': None,\n",
       " 'sharesOutstanding': 16687599616,\n",
       " 'fundInceptionDate': None,\n",
       " 'annualReportExpenseRatio': None,\n",
       " 'bookValue': 4.146,\n",
       " 'sharesShort': 127937929,\n",
       " 'sharesPercentSharesOut': 0.0077,\n",
       " 'fundFamily': None,\n",
       " 'lastFiscalYearEnd': 1601078400,\n",
       " 'heldPercentInstitutions': 0.60099,\n",
       " 'netIncomeToCommon': 76311003136,\n",
       " 'trailingEps': 4.449,\n",
       " 'lastDividendValue': 0.205,\n",
       " 'SandP52WeekChange': 0.46209478,\n",
       " 'priceToBook': 31.378439,\n",
       " 'heldPercentInsiders': 0.00075999997,\n",
       " 'nextFiscalYearEnd': 1664150400,\n",
       " 'mostRecentQuarter': 1616803200,\n",
       " 'shortRatio': 1.29,\n",
       " 'sharesShortPreviousMonthDate': 1615766400,\n",
       " 'floatShares': 16670275864,\n",
       " 'enterpriseValue': 2185324658688,\n",
       " 'threeYearAverageReturn': None,\n",
       " 'lastSplitDate': 1598832000,\n",
       " 'lastSplitFactor': '4:1',\n",
       " 'legalType': None,\n",
       " 'lastDividendDate': 1612483200,\n",
       " 'morningStarOverallRating': None,\n",
       " 'earningsQuarterlyGrowth': 1.101,\n",
       " 'dateShortInterest': 1618444800,\n",
       " 'pegRatio': 1.46,\n",
       " 'lastCapGain': None,\n",
       " 'shortPercentOfFloat': 0.0077,\n",
       " 'sharesShortPriorMonth': 107011007,\n",
       " 'impliedSharesOutstanding': None,\n",
       " 'category': None,\n",
       " 'fiveYearAverageReturn': None,\n",
       " 'regularMarketPrice': 130.095,\n",
       " 'logo_url': 'https://logo.clearbit.com/apple.com'}"
      ]
     },
     "metadata": {},
     "execution_count": 3
    }
   ],
   "source": [
    "aapl.info"
   ]
  },
  {
   "cell_type": "code",
   "execution_count": 5,
   "metadata": {},
   "outputs": [
    {
     "output_type": "execute_result",
     "data": {
      "text/plain": [
       "                  Open        High         Low       Close     Volume  \\\n",
       "Date                                                                    \n",
       "1980-12-12    0.100922    0.101361    0.100922    0.100922  469033600   \n",
       "1980-12-15    0.096096    0.096096    0.095657    0.095657  175884800   \n",
       "1980-12-16    0.089075    0.089075    0.088636    0.088636  105728000   \n",
       "1980-12-17    0.090830    0.091268    0.090830    0.090830   86441600   \n",
       "1980-12-18    0.093463    0.093902    0.093463    0.093463   73449600   \n",
       "...                ...         ...         ...         ...        ...   \n",
       "2021-04-29  136.470001  137.070007  132.449997  133.479996  151101000   \n",
       "2021-04-30  131.779999  133.559998  131.070007  131.460007  109713200   \n",
       "2021-05-03  132.039993  134.070007  131.830002  132.539993   75135100   \n",
       "2021-05-04  131.190002  131.490005  126.699997  127.849998  137375500   \n",
       "2021-05-05  129.199997  130.440002  128.860001  130.070801   42185654   \n",
       "\n",
       "            Dividends  Stock Splits  \n",
       "Date                                 \n",
       "1980-12-12        0.0           0.0  \n",
       "1980-12-15        0.0           0.0  \n",
       "1980-12-16        0.0           0.0  \n",
       "1980-12-17        0.0           0.0  \n",
       "1980-12-18        0.0           0.0  \n",
       "...               ...           ...  \n",
       "2021-04-29        0.0           0.0  \n",
       "2021-04-30        0.0           0.0  \n",
       "2021-05-03        0.0           0.0  \n",
       "2021-05-04        0.0           0.0  \n",
       "2021-05-05        0.0           0.0  \n",
       "\n",
       "[10185 rows x 7 columns]"
      ],
      "text/html": "<div>\n<style scoped>\n    .dataframe tbody tr th:only-of-type {\n        vertical-align: middle;\n    }\n\n    .dataframe tbody tr th {\n        vertical-align: top;\n    }\n\n    .dataframe thead th {\n        text-align: right;\n    }\n</style>\n<table border=\"1\" class=\"dataframe\">\n  <thead>\n    <tr style=\"text-align: right;\">\n      <th></th>\n      <th>Open</th>\n      <th>High</th>\n      <th>Low</th>\n      <th>Close</th>\n      <th>Volume</th>\n      <th>Dividends</th>\n      <th>Stock Splits</th>\n    </tr>\n    <tr>\n      <th>Date</th>\n      <th></th>\n      <th></th>\n      <th></th>\n      <th></th>\n      <th></th>\n      <th></th>\n      <th></th>\n    </tr>\n  </thead>\n  <tbody>\n    <tr>\n      <th>1980-12-12</th>\n      <td>0.100922</td>\n      <td>0.101361</td>\n      <td>0.100922</td>\n      <td>0.100922</td>\n      <td>469033600</td>\n      <td>0.0</td>\n      <td>0.0</td>\n    </tr>\n    <tr>\n      <th>1980-12-15</th>\n      <td>0.096096</td>\n      <td>0.096096</td>\n      <td>0.095657</td>\n      <td>0.095657</td>\n      <td>175884800</td>\n      <td>0.0</td>\n      <td>0.0</td>\n    </tr>\n    <tr>\n      <th>1980-12-16</th>\n      <td>0.089075</td>\n      <td>0.089075</td>\n      <td>0.088636</td>\n      <td>0.088636</td>\n      <td>105728000</td>\n      <td>0.0</td>\n      <td>0.0</td>\n    </tr>\n    <tr>\n      <th>1980-12-17</th>\n      <td>0.090830</td>\n      <td>0.091268</td>\n      <td>0.090830</td>\n      <td>0.090830</td>\n      <td>86441600</td>\n      <td>0.0</td>\n      <td>0.0</td>\n    </tr>\n    <tr>\n      <th>1980-12-18</th>\n      <td>0.093463</td>\n      <td>0.093902</td>\n      <td>0.093463</td>\n      <td>0.093463</td>\n      <td>73449600</td>\n      <td>0.0</td>\n      <td>0.0</td>\n    </tr>\n    <tr>\n      <th>...</th>\n      <td>...</td>\n      <td>...</td>\n      <td>...</td>\n      <td>...</td>\n      <td>...</td>\n      <td>...</td>\n      <td>...</td>\n    </tr>\n    <tr>\n      <th>2021-04-29</th>\n      <td>136.470001</td>\n      <td>137.070007</td>\n      <td>132.449997</td>\n      <td>133.479996</td>\n      <td>151101000</td>\n      <td>0.0</td>\n      <td>0.0</td>\n    </tr>\n    <tr>\n      <th>2021-04-30</th>\n      <td>131.779999</td>\n      <td>133.559998</td>\n      <td>131.070007</td>\n      <td>131.460007</td>\n      <td>109713200</td>\n      <td>0.0</td>\n      <td>0.0</td>\n    </tr>\n    <tr>\n      <th>2021-05-03</th>\n      <td>132.039993</td>\n      <td>134.070007</td>\n      <td>131.830002</td>\n      <td>132.539993</td>\n      <td>75135100</td>\n      <td>0.0</td>\n      <td>0.0</td>\n    </tr>\n    <tr>\n      <th>2021-05-04</th>\n      <td>131.190002</td>\n      <td>131.490005</td>\n      <td>126.699997</td>\n      <td>127.849998</td>\n      <td>137375500</td>\n      <td>0.0</td>\n      <td>0.0</td>\n    </tr>\n    <tr>\n      <th>2021-05-05</th>\n      <td>129.199997</td>\n      <td>130.440002</td>\n      <td>128.860001</td>\n      <td>130.070801</td>\n      <td>42185654</td>\n      <td>0.0</td>\n      <td>0.0</td>\n    </tr>\n  </tbody>\n</table>\n<p>10185 rows × 7 columns</p>\n</div>"
     },
     "metadata": {},
     "execution_count": 5
    }
   ],
   "source": [
    "hist = aapl.history(period = \"max\")\n",
    "hist"
   ]
  },
  {
   "cell_type": "code",
   "execution_count": 6,
   "metadata": {},
   "outputs": [
    {
     "output_type": "execute_result",
     "data": {
      "text/plain": [
       "Date\n",
       "1987-05-11    0.000536\n",
       "1987-08-10    0.000536\n",
       "1987-11-17    0.000714\n",
       "1988-02-12    0.000714\n",
       "1988-05-16    0.000714\n",
       "                ...   \n",
       "2020-02-07    0.192500\n",
       "2020-05-08    0.205000\n",
       "2020-08-07    0.205000\n",
       "2020-11-06    0.205000\n",
       "2021-02-05    0.205000\n",
       "Name: Dividends, Length: 70, dtype: float64"
      ]
     },
     "metadata": {},
     "execution_count": 6
    }
   ],
   "source": [
    "aapl.dividends\n"
   ]
  },
  {
   "cell_type": "code",
   "execution_count": 7,
   "metadata": {},
   "outputs": [
    {
     "output_type": "execute_result",
     "data": {
      "text/plain": [
       "Date\n",
       "1987-06-16    2.0\n",
       "2000-06-21    2.0\n",
       "2005-02-28    2.0\n",
       "2014-06-09    7.0\n",
       "2020-08-31    4.0\n",
       "Name: Stock Splits, dtype: float64"
      ]
     },
     "metadata": {},
     "execution_count": 7
    }
   ],
   "source": [
    "aapl.splits"
   ]
  },
  {
   "cell_type": "code",
   "execution_count": 8,
   "metadata": {},
   "outputs": [
    {
     "output_type": "execute_result",
     "data": {
      "text/plain": [
       "                                            2020-09-26      2019-09-28  \\\n",
       "Research Development                     18752000000.0   16217000000.0   \n",
       "Effect Of Accounting Charges                      None            None   \n",
       "Income Before Tax                        67091000000.0   65737000000.0   \n",
       "Minority Interest                                 None            None   \n",
       "Net Income                               57411000000.0   55256000000.0   \n",
       "Selling General Administrative           19916000000.0   18245000000.0   \n",
       "Gross Profit                            104956000000.0   98392000000.0   \n",
       "Ebit                                     66288000000.0   63930000000.0   \n",
       "Operating Income                         66288000000.0   63930000000.0   \n",
       "Other Operating Expenses                          None            None   \n",
       "Interest Expense                         -2873000000.0   -3576000000.0   \n",
       "Extraordinary Items                               None            None   \n",
       "Non Recurring                                     None            None   \n",
       "Other Items                                       None            None   \n",
       "Income Tax Expense                        9680000000.0   10481000000.0   \n",
       "Total Revenue                           274515000000.0  260174000000.0   \n",
       "Total Operating Expenses                208227000000.0  196244000000.0   \n",
       "Cost Of Revenue                         169559000000.0  161782000000.0   \n",
       "Total Other Income Expense Net             803000000.0    1807000000.0   \n",
       "Discontinued Operations                           None            None   \n",
       "Net Income From Continuing Ops           57411000000.0   55256000000.0   \n",
       "Net Income Applicable To Common Shares   57411000000.0   55256000000.0   \n",
       "\n",
       "                                            2018-09-29      2017-09-30  \n",
       "Research Development                     14236000000.0   11581000000.0  \n",
       "Effect Of Accounting Charges                      None            None  \n",
       "Income Before Tax                        72903000000.0   64089000000.0  \n",
       "Minority Interest                                 None            None  \n",
       "Net Income                               59531000000.0   48351000000.0  \n",
       "Selling General Administrative           16705000000.0   15261000000.0  \n",
       "Gross Profit                            101839000000.0   88186000000.0  \n",
       "Ebit                                     70898000000.0   61344000000.0  \n",
       "Operating Income                         70898000000.0   61344000000.0  \n",
       "Other Operating Expenses                          None            None  \n",
       "Interest Expense                         -3240000000.0   -2323000000.0  \n",
       "Extraordinary Items                               None            None  \n",
       "Non Recurring                                     None            None  \n",
       "Other Items                                       None            None  \n",
       "Income Tax Expense                       13372000000.0   15738000000.0  \n",
       "Total Revenue                           265595000000.0  229234000000.0  \n",
       "Total Operating Expenses                194697000000.0  167890000000.0  \n",
       "Cost Of Revenue                         163756000000.0  141048000000.0  \n",
       "Total Other Income Expense Net            2005000000.0    2745000000.0  \n",
       "Discontinued Operations                           None            None  \n",
       "Net Income From Continuing Ops           59531000000.0   48351000000.0  \n",
       "Net Income Applicable To Common Shares   59531000000.0   48351000000.0  "
      ],
      "text/html": "<div>\n<style scoped>\n    .dataframe tbody tr th:only-of-type {\n        vertical-align: middle;\n    }\n\n    .dataframe tbody tr th {\n        vertical-align: top;\n    }\n\n    .dataframe thead th {\n        text-align: right;\n    }\n</style>\n<table border=\"1\" class=\"dataframe\">\n  <thead>\n    <tr style=\"text-align: right;\">\n      <th></th>\n      <th>2020-09-26</th>\n      <th>2019-09-28</th>\n      <th>2018-09-29</th>\n      <th>2017-09-30</th>\n    </tr>\n  </thead>\n  <tbody>\n    <tr>\n      <th>Research Development</th>\n      <td>18752000000.0</td>\n      <td>16217000000.0</td>\n      <td>14236000000.0</td>\n      <td>11581000000.0</td>\n    </tr>\n    <tr>\n      <th>Effect Of Accounting Charges</th>\n      <td>None</td>\n      <td>None</td>\n      <td>None</td>\n      <td>None</td>\n    </tr>\n    <tr>\n      <th>Income Before Tax</th>\n      <td>67091000000.0</td>\n      <td>65737000000.0</td>\n      <td>72903000000.0</td>\n      <td>64089000000.0</td>\n    </tr>\n    <tr>\n      <th>Minority Interest</th>\n      <td>None</td>\n      <td>None</td>\n      <td>None</td>\n      <td>None</td>\n    </tr>\n    <tr>\n      <th>Net Income</th>\n      <td>57411000000.0</td>\n      <td>55256000000.0</td>\n      <td>59531000000.0</td>\n      <td>48351000000.0</td>\n    </tr>\n    <tr>\n      <th>Selling General Administrative</th>\n      <td>19916000000.0</td>\n      <td>18245000000.0</td>\n      <td>16705000000.0</td>\n      <td>15261000000.0</td>\n    </tr>\n    <tr>\n      <th>Gross Profit</th>\n      <td>104956000000.0</td>\n      <td>98392000000.0</td>\n      <td>101839000000.0</td>\n      <td>88186000000.0</td>\n    </tr>\n    <tr>\n      <th>Ebit</th>\n      <td>66288000000.0</td>\n      <td>63930000000.0</td>\n      <td>70898000000.0</td>\n      <td>61344000000.0</td>\n    </tr>\n    <tr>\n      <th>Operating Income</th>\n      <td>66288000000.0</td>\n      <td>63930000000.0</td>\n      <td>70898000000.0</td>\n      <td>61344000000.0</td>\n    </tr>\n    <tr>\n      <th>Other Operating Expenses</th>\n      <td>None</td>\n      <td>None</td>\n      <td>None</td>\n      <td>None</td>\n    </tr>\n    <tr>\n      <th>Interest Expense</th>\n      <td>-2873000000.0</td>\n      <td>-3576000000.0</td>\n      <td>-3240000000.0</td>\n      <td>-2323000000.0</td>\n    </tr>\n    <tr>\n      <th>Extraordinary Items</th>\n      <td>None</td>\n      <td>None</td>\n      <td>None</td>\n      <td>None</td>\n    </tr>\n    <tr>\n      <th>Non Recurring</th>\n      <td>None</td>\n      <td>None</td>\n      <td>None</td>\n      <td>None</td>\n    </tr>\n    <tr>\n      <th>Other Items</th>\n      <td>None</td>\n      <td>None</td>\n      <td>None</td>\n      <td>None</td>\n    </tr>\n    <tr>\n      <th>Income Tax Expense</th>\n      <td>9680000000.0</td>\n      <td>10481000000.0</td>\n      <td>13372000000.0</td>\n      <td>15738000000.0</td>\n    </tr>\n    <tr>\n      <th>Total Revenue</th>\n      <td>274515000000.0</td>\n      <td>260174000000.0</td>\n      <td>265595000000.0</td>\n      <td>229234000000.0</td>\n    </tr>\n    <tr>\n      <th>Total Operating Expenses</th>\n      <td>208227000000.0</td>\n      <td>196244000000.0</td>\n      <td>194697000000.0</td>\n      <td>167890000000.0</td>\n    </tr>\n    <tr>\n      <th>Cost Of Revenue</th>\n      <td>169559000000.0</td>\n      <td>161782000000.0</td>\n      <td>163756000000.0</td>\n      <td>141048000000.0</td>\n    </tr>\n    <tr>\n      <th>Total Other Income Expense Net</th>\n      <td>803000000.0</td>\n      <td>1807000000.0</td>\n      <td>2005000000.0</td>\n      <td>2745000000.0</td>\n    </tr>\n    <tr>\n      <th>Discontinued Operations</th>\n      <td>None</td>\n      <td>None</td>\n      <td>None</td>\n      <td>None</td>\n    </tr>\n    <tr>\n      <th>Net Income From Continuing Ops</th>\n      <td>57411000000.0</td>\n      <td>55256000000.0</td>\n      <td>59531000000.0</td>\n      <td>48351000000.0</td>\n    </tr>\n    <tr>\n      <th>Net Income Applicable To Common Shares</th>\n      <td>57411000000.0</td>\n      <td>55256000000.0</td>\n      <td>59531000000.0</td>\n      <td>48351000000.0</td>\n    </tr>\n  </tbody>\n</table>\n</div>"
     },
     "metadata": {},
     "execution_count": 8
    }
   ],
   "source": [
    "aapl.financials"
   ]
  },
  {
   "cell_type": "code",
   "execution_count": 9,
   "metadata": {},
   "outputs": [
    {
     "output_type": "execute_result",
     "data": {
      "text/plain": [
       "        0                                      1\n",
       "0   0.08%        % of Shares Held by All Insider\n",
       "1  60.10%       % of Shares Held by Institutions\n",
       "2  60.15%        % of Float Held by Institutions\n",
       "3    4900  Number of Institutions Holding Shares"
      ],
      "text/html": "<div>\n<style scoped>\n    .dataframe tbody tr th:only-of-type {\n        vertical-align: middle;\n    }\n\n    .dataframe tbody tr th {\n        vertical-align: top;\n    }\n\n    .dataframe thead th {\n        text-align: right;\n    }\n</style>\n<table border=\"1\" class=\"dataframe\">\n  <thead>\n    <tr style=\"text-align: right;\">\n      <th></th>\n      <th>0</th>\n      <th>1</th>\n    </tr>\n  </thead>\n  <tbody>\n    <tr>\n      <th>0</th>\n      <td>0.08%</td>\n      <td>% of Shares Held by All Insider</td>\n    </tr>\n    <tr>\n      <th>1</th>\n      <td>60.10%</td>\n      <td>% of Shares Held by Institutions</td>\n    </tr>\n    <tr>\n      <th>2</th>\n      <td>60.15%</td>\n      <td>% of Float Held by Institutions</td>\n    </tr>\n    <tr>\n      <th>3</th>\n      <td>4900</td>\n      <td>Number of Institutions Holding Shares</td>\n    </tr>\n  </tbody>\n</table>\n</div>"
     },
     "metadata": {},
     "execution_count": 9
    }
   ],
   "source": [
    "aapl.major_holders"
   ]
  },
  {
   "cell_type": "code",
   "execution_count": 10,
   "metadata": {},
   "outputs": [
    {
     "output_type": "execute_result",
     "data": {
      "text/plain": [
       "                                Holder      Shares Date Reported   % Out  \\\n",
       "0           Vanguard Group, Inc. (The)  1255155794    2020-12-30  0.0752   \n",
       "1                       Blackrock Inc.  1056461286    2020-12-30  0.0633   \n",
       "2              Berkshire Hathaway, Inc   887135554    2020-12-30  0.0532   \n",
       "3             State Street Corporation   638166552    2020-12-30  0.0382   \n",
       "4                             FMR, LLC   358551697    2020-12-30  0.0215   \n",
       "5        Geode Capital Management, LLC   247977084    2020-12-30  0.0149   \n",
       "6        Price (T.Rowe) Associates Inc   210474648    2020-12-30  0.0126   \n",
       "7           Northern Trust Corporation   205000080    2020-12-30  0.0123   \n",
       "8    Norges Bank Investment Management   167580974    2020-12-30  0.0100   \n",
       "9  Bank Of New York Mellon Corporation   157791038    2020-12-30  0.0095   \n",
       "\n",
       "          Value  \n",
       "0  166546622305  \n",
       "1  140181848039  \n",
       "2  117714016660  \n",
       "3   84678319784  \n",
       "4   47576224674  \n",
       "5   32904079275  \n",
       "6   27927881043  \n",
       "7   27201460615  \n",
       "8   22236319440  \n",
       "9   20937292832  "
      ],
      "text/html": "<div>\n<style scoped>\n    .dataframe tbody tr th:only-of-type {\n        vertical-align: middle;\n    }\n\n    .dataframe tbody tr th {\n        vertical-align: top;\n    }\n\n    .dataframe thead th {\n        text-align: right;\n    }\n</style>\n<table border=\"1\" class=\"dataframe\">\n  <thead>\n    <tr style=\"text-align: right;\">\n      <th></th>\n      <th>Holder</th>\n      <th>Shares</th>\n      <th>Date Reported</th>\n      <th>% Out</th>\n      <th>Value</th>\n    </tr>\n  </thead>\n  <tbody>\n    <tr>\n      <th>0</th>\n      <td>Vanguard Group, Inc. (The)</td>\n      <td>1255155794</td>\n      <td>2020-12-30</td>\n      <td>0.0752</td>\n      <td>166546622305</td>\n    </tr>\n    <tr>\n      <th>1</th>\n      <td>Blackrock Inc.</td>\n      <td>1056461286</td>\n      <td>2020-12-30</td>\n      <td>0.0633</td>\n      <td>140181848039</td>\n    </tr>\n    <tr>\n      <th>2</th>\n      <td>Berkshire Hathaway, Inc</td>\n      <td>887135554</td>\n      <td>2020-12-30</td>\n      <td>0.0532</td>\n      <td>117714016660</td>\n    </tr>\n    <tr>\n      <th>3</th>\n      <td>State Street Corporation</td>\n      <td>638166552</td>\n      <td>2020-12-30</td>\n      <td>0.0382</td>\n      <td>84678319784</td>\n    </tr>\n    <tr>\n      <th>4</th>\n      <td>FMR, LLC</td>\n      <td>358551697</td>\n      <td>2020-12-30</td>\n      <td>0.0215</td>\n      <td>47576224674</td>\n    </tr>\n    <tr>\n      <th>5</th>\n      <td>Geode Capital Management, LLC</td>\n      <td>247977084</td>\n      <td>2020-12-30</td>\n      <td>0.0149</td>\n      <td>32904079275</td>\n    </tr>\n    <tr>\n      <th>6</th>\n      <td>Price (T.Rowe) Associates Inc</td>\n      <td>210474648</td>\n      <td>2020-12-30</td>\n      <td>0.0126</td>\n      <td>27927881043</td>\n    </tr>\n    <tr>\n      <th>7</th>\n      <td>Northern Trust Corporation</td>\n      <td>205000080</td>\n      <td>2020-12-30</td>\n      <td>0.0123</td>\n      <td>27201460615</td>\n    </tr>\n    <tr>\n      <th>8</th>\n      <td>Norges Bank Investment Management</td>\n      <td>167580974</td>\n      <td>2020-12-30</td>\n      <td>0.0100</td>\n      <td>22236319440</td>\n    </tr>\n    <tr>\n      <th>9</th>\n      <td>Bank Of New York Mellon Corporation</td>\n      <td>157791038</td>\n      <td>2020-12-30</td>\n      <td>0.0095</td>\n      <td>20937292832</td>\n    </tr>\n  </tbody>\n</table>\n</div>"
     },
     "metadata": {},
     "execution_count": 10
    }
   ],
   "source": [
    "aapl.institutional_holders"
   ]
  },
  {
   "cell_type": "code",
   "execution_count": 11,
   "metadata": {},
   "outputs": [
    {
     "output_type": "execute_result",
     "data": {
      "text/plain": [
       "           Revenue     Earnings\n",
       "Year                           \n",
       "2017  229234000000  48351000000\n",
       "2018  265595000000  59531000000\n",
       "2019  260174000000  55256000000\n",
       "2020  274515000000  57411000000"
      ],
      "text/html": "<div>\n<style scoped>\n    .dataframe tbody tr th:only-of-type {\n        vertical-align: middle;\n    }\n\n    .dataframe tbody tr th {\n        vertical-align: top;\n    }\n\n    .dataframe thead th {\n        text-align: right;\n    }\n</style>\n<table border=\"1\" class=\"dataframe\">\n  <thead>\n    <tr style=\"text-align: right;\">\n      <th></th>\n      <th>Revenue</th>\n      <th>Earnings</th>\n    </tr>\n    <tr>\n      <th>Year</th>\n      <th></th>\n      <th></th>\n    </tr>\n  </thead>\n  <tbody>\n    <tr>\n      <th>2017</th>\n      <td>229234000000</td>\n      <td>48351000000</td>\n    </tr>\n    <tr>\n      <th>2018</th>\n      <td>265595000000</td>\n      <td>59531000000</td>\n    </tr>\n    <tr>\n      <th>2019</th>\n      <td>260174000000</td>\n      <td>55256000000</td>\n    </tr>\n    <tr>\n      <th>2020</th>\n      <td>274515000000</td>\n      <td>57411000000</td>\n    </tr>\n  </tbody>\n</table>\n</div>"
     },
     "metadata": {},
     "execution_count": 11
    }
   ],
   "source": [
    "aapl.earnings"
   ]
  },
  {
   "cell_type": "code",
   "execution_count": 12,
   "metadata": {},
   "outputs": [
    {
     "output_type": "execute_result",
     "data": {
      "text/plain": [
       "                                     Value\n",
       "2021-3                                    \n",
       "palmOil                              False\n",
       "controversialWeapons                 False\n",
       "gambling                             False\n",
       "socialScore                           7.69\n",
       "nuclear                              False\n",
       "furLeather                           False\n",
       "alcoholic                            False\n",
       "gmo                                  False\n",
       "catholic                             False\n",
       "socialPercentile                      None\n",
       "peerCount                               56\n",
       "governanceScore                       8.94\n",
       "environmentPercentile                 None\n",
       "animalTesting                        False\n",
       "tobacco                              False\n",
       "totalEsg                             16.73\n",
       "highestControversy                       3\n",
       "esgPerformance                  UNDER_PERF\n",
       "coal                                 False\n",
       "pesticides                           False\n",
       "adult                                False\n",
       "percentile                           11.77\n",
       "peerGroup              Technology Hardware\n",
       "smallArms                            False\n",
       "environmentScore                       0.1\n",
       "governancePercentile                  None\n",
       "militaryContract                     False"
      ],
      "text/html": "<div>\n<style scoped>\n    .dataframe tbody tr th:only-of-type {\n        vertical-align: middle;\n    }\n\n    .dataframe tbody tr th {\n        vertical-align: top;\n    }\n\n    .dataframe thead th {\n        text-align: right;\n    }\n</style>\n<table border=\"1\" class=\"dataframe\">\n  <thead>\n    <tr style=\"text-align: right;\">\n      <th></th>\n      <th>Value</th>\n    </tr>\n    <tr>\n      <th>2021-3</th>\n      <th></th>\n    </tr>\n  </thead>\n  <tbody>\n    <tr>\n      <th>palmOil</th>\n      <td>False</td>\n    </tr>\n    <tr>\n      <th>controversialWeapons</th>\n      <td>False</td>\n    </tr>\n    <tr>\n      <th>gambling</th>\n      <td>False</td>\n    </tr>\n    <tr>\n      <th>socialScore</th>\n      <td>7.69</td>\n    </tr>\n    <tr>\n      <th>nuclear</th>\n      <td>False</td>\n    </tr>\n    <tr>\n      <th>furLeather</th>\n      <td>False</td>\n    </tr>\n    <tr>\n      <th>alcoholic</th>\n      <td>False</td>\n    </tr>\n    <tr>\n      <th>gmo</th>\n      <td>False</td>\n    </tr>\n    <tr>\n      <th>catholic</th>\n      <td>False</td>\n    </tr>\n    <tr>\n      <th>socialPercentile</th>\n      <td>None</td>\n    </tr>\n    <tr>\n      <th>peerCount</th>\n      <td>56</td>\n    </tr>\n    <tr>\n      <th>governanceScore</th>\n      <td>8.94</td>\n    </tr>\n    <tr>\n      <th>environmentPercentile</th>\n      <td>None</td>\n    </tr>\n    <tr>\n      <th>animalTesting</th>\n      <td>False</td>\n    </tr>\n    <tr>\n      <th>tobacco</th>\n      <td>False</td>\n    </tr>\n    <tr>\n      <th>totalEsg</th>\n      <td>16.73</td>\n    </tr>\n    <tr>\n      <th>highestControversy</th>\n      <td>3</td>\n    </tr>\n    <tr>\n      <th>esgPerformance</th>\n      <td>UNDER_PERF</td>\n    </tr>\n    <tr>\n      <th>coal</th>\n      <td>False</td>\n    </tr>\n    <tr>\n      <th>pesticides</th>\n      <td>False</td>\n    </tr>\n    <tr>\n      <th>adult</th>\n      <td>False</td>\n    </tr>\n    <tr>\n      <th>percentile</th>\n      <td>11.77</td>\n    </tr>\n    <tr>\n      <th>peerGroup</th>\n      <td>Technology Hardware</td>\n    </tr>\n    <tr>\n      <th>smallArms</th>\n      <td>False</td>\n    </tr>\n    <tr>\n      <th>environmentScore</th>\n      <td>0.1</td>\n    </tr>\n    <tr>\n      <th>governancePercentile</th>\n      <td>None</td>\n    </tr>\n    <tr>\n      <th>militaryContract</th>\n      <td>False</td>\n    </tr>\n  </tbody>\n</table>\n</div>"
     },
     "metadata": {},
     "execution_count": 12
    }
   ],
   "source": [
    "aapl.sustainability"
   ]
  },
  {
   "cell_type": "code",
   "execution_count": 13,
   "metadata": {},
   "outputs": [
    {
     "output_type": "execute_result",
     "data": {
      "text/plain": [
       "                                       Firm      To Grade From Grade Action\n",
       "Date                                                                       \n",
       "2012-02-09 08:17:00       Canaccord Genuity           Buy              main\n",
       "2012-03-08 07:33:00          FBN Securities    Outperform              main\n",
       "2012-03-13 06:08:00               Jefferies           Buy              main\n",
       "2012-03-14 06:13:00          Morgan Stanley    Overweight              main\n",
       "2012-03-14 08:21:00       Canaccord Genuity           Buy              main\n",
       "...                                     ...           ...        ...    ...\n",
       "2021-04-29 12:36:07               Jefferies           Buy              main\n",
       "2021-04-29 13:17:44       Canaccord Genuity           Buy              main\n",
       "2021-04-29 13:20:06           Credit Suisse       Neutral              main\n",
       "2021-04-29 13:40:32  Monness, Crespi, Hardt           Buy              main\n",
       "2021-04-29 14:01:59                Barclays  Equal-Weight              main\n",
       "\n",
       "[789 rows x 4 columns]"
      ],
      "text/html": "<div>\n<style scoped>\n    .dataframe tbody tr th:only-of-type {\n        vertical-align: middle;\n    }\n\n    .dataframe tbody tr th {\n        vertical-align: top;\n    }\n\n    .dataframe thead th {\n        text-align: right;\n    }\n</style>\n<table border=\"1\" class=\"dataframe\">\n  <thead>\n    <tr style=\"text-align: right;\">\n      <th></th>\n      <th>Firm</th>\n      <th>To Grade</th>\n      <th>From Grade</th>\n      <th>Action</th>\n    </tr>\n    <tr>\n      <th>Date</th>\n      <th></th>\n      <th></th>\n      <th></th>\n      <th></th>\n    </tr>\n  </thead>\n  <tbody>\n    <tr>\n      <th>2012-02-09 08:17:00</th>\n      <td>Canaccord Genuity</td>\n      <td>Buy</td>\n      <td></td>\n      <td>main</td>\n    </tr>\n    <tr>\n      <th>2012-03-08 07:33:00</th>\n      <td>FBN Securities</td>\n      <td>Outperform</td>\n      <td></td>\n      <td>main</td>\n    </tr>\n    <tr>\n      <th>2012-03-13 06:08:00</th>\n      <td>Jefferies</td>\n      <td>Buy</td>\n      <td></td>\n      <td>main</td>\n    </tr>\n    <tr>\n      <th>2012-03-14 06:13:00</th>\n      <td>Morgan Stanley</td>\n      <td>Overweight</td>\n      <td></td>\n      <td>main</td>\n    </tr>\n    <tr>\n      <th>2012-03-14 08:21:00</th>\n      <td>Canaccord Genuity</td>\n      <td>Buy</td>\n      <td></td>\n      <td>main</td>\n    </tr>\n    <tr>\n      <th>...</th>\n      <td>...</td>\n      <td>...</td>\n      <td>...</td>\n      <td>...</td>\n    </tr>\n    <tr>\n      <th>2021-04-29 12:36:07</th>\n      <td>Jefferies</td>\n      <td>Buy</td>\n      <td></td>\n      <td>main</td>\n    </tr>\n    <tr>\n      <th>2021-04-29 13:17:44</th>\n      <td>Canaccord Genuity</td>\n      <td>Buy</td>\n      <td></td>\n      <td>main</td>\n    </tr>\n    <tr>\n      <th>2021-04-29 13:20:06</th>\n      <td>Credit Suisse</td>\n      <td>Neutral</td>\n      <td></td>\n      <td>main</td>\n    </tr>\n    <tr>\n      <th>2021-04-29 13:40:32</th>\n      <td>Monness, Crespi, Hardt</td>\n      <td>Buy</td>\n      <td></td>\n      <td>main</td>\n    </tr>\n    <tr>\n      <th>2021-04-29 14:01:59</th>\n      <td>Barclays</td>\n      <td>Equal-Weight</td>\n      <td></td>\n      <td>main</td>\n    </tr>\n  </tbody>\n</table>\n<p>789 rows × 4 columns</p>\n</div>"
     },
     "metadata": {},
     "execution_count": 13
    }
   ],
   "source": [
    "aapl.recommendations"
   ]
  },
  {
   "cell_type": "code",
   "execution_count": null,
   "metadata": {},
   "outputs": [],
   "source": []
  }
 ]
}